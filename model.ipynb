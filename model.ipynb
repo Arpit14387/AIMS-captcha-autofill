{
 "cells": [
  {
   "cell_type": "code",
   "execution_count": null,
   "id": "89160b87",
   "metadata": {},
   "outputs": [],
   "source": [
    "import matplotlib.pyplot as plt\n",
    "import numpy as np\n",
    "\n",
    "import tensorflow as tf\n",
    "from tensorflow import keras\n",
    "from tensorflow.keras import layers\n",
    "from tensorflow.keras.models import Sequential"
   ]
  },
  {
   "cell_type": "code",
   "execution_count": null,
   "id": "25182869",
   "metadata": {},
   "outputs": [],
   "source": [
    "tf.config.list_physical_devices('GPU')\n",
    "print(\"Num GPUs Available: \", len(tf.config.list_physical_devices('GPU')))\n",
    "print(tf.__version__)\n",
    "!nvidia-smi"
   ]
  },
  {
   "cell_type": "code",
   "execution_count": null,
   "id": "45f14367",
   "metadata": {},
   "outputs": [],
   "source": [
    "img_size = (1200, 1)\n",
    "batch_size = 64\n",
    "direc = r'C:/Users/utkar/Downloads/flattened_data_grayscale/'\n",
    "#test_dir = r'C:\\Users/utkar/Desktop/ML/pytorch/captcha_web_extension/test_data'\n",
    "\n",
    "ds_train = tf.keras.preprocessing.image_dataset_from_directory(\n",
    "    direc,\n",
    "    labels='inferred',\n",
    "    label_mode='categorical',\n",
    "    color_mode=\"grayscale\",\n",
    "    batch_size=batch_size,\n",
    "    image_size=img_size,\n",
    "    shuffle=True,\n",
    "    seed=123,\n",
    "    validation_split=0.1,\n",
    "    subset=\"training\"\n",
    ")\n",
    "\n",
    "ds_val = tf.keras.preprocessing.image_dataset_from_directory(\n",
    "    direc,\n",
    "    labels='inferred',\n",
    "    label_mode='categorical',\n",
    "    color_mode=\"grayscale\",\n",
    "    batch_size=batch_size,\n",
    "    image_size=img_size,\n",
    "    shuffle=True,\n",
    "    seed=123,\n",
    "    validation_split=0.1,\n",
    "    subset=\"validation\"\n",
    ")\n",
    "\n",
    "normalization_layer = layers.Rescaling(1./255)\n",
    "n_train_ds = ds_train.map(lambda x, y: (tf.squeeze(normalization_layer(x)), y))\n",
    "n_val_ds = ds_val.map(lambda x, y: (tf.squeeze(normalization_layer(x)), y))\n",
    "\n",
    "train_img_batch, train_labels_batch = next(iter(n_train_ds))\n",
    "val_img_batch, val_labels_batch = next(iter(n_val_ds))"
   ]
  },
  {
   "cell_type": "code",
   "execution_count": null,
   "id": "6719248c",
   "metadata": {},
   "outputs": [],
   "source": [
    "img = np.array(train_img_batch[0])\n",
    "#img = img.reshape(40, 30)>0.5\n",
    "print(img.reshape(40, 30))\n",
    "plt.imshow(img.reshape(40, 30), cmap='gray')"
   ]
  },
  {
   "cell_type": "code",
   "execution_count": null,
   "id": "99ab4e8a",
   "metadata": {
    "scrolled": true
   },
   "outputs": [],
   "source": [
    "class_names = ds_train.class_names\n",
    "print(class_names)"
   ]
  },
  {
   "cell_type": "code",
   "execution_count": null,
   "id": "25f9fd7a",
   "metadata": {},
   "outputs": [],
   "source": [
    "labels_map = {\n",
    "    0:'2', 1:'3', 2:'4', 3:'5', 4:'6', 5:'7', 6:'8', 7:'9', 8:'A', 9:'B', \n",
    "    10:'C', 11:'D', 12:'E', 13:'F', 14:'G', 15:'H', 16:'J', 17:'K', 18:'L', \n",
    "    19:'M', 20:'P', 21:'Q', 22:'R', 23:'S', 24:'T', 25:'U', 26:'V', 27:'W', 28:'X', \n",
    "    29:'Y', 30:'a', 31:'b', 32:'c', 33:'d', 34:'e', 35:'f', 36:'h', 37:'j', \n",
    "    38:'k', 39:'m', 40:'n', 41:'p', 42:'q', 43:'r', 44:'s', 45:'t', 46:'u', 47:'v', \n",
    "    48:'w', 49:'x', 50:'y'\n",
    "}\n"
   ]
  },
  {
   "cell_type": "code",
   "execution_count": null,
   "id": "cb0bed91",
   "metadata": {},
   "outputs": [],
   "source": [
    "plt.figure(figsize=(10, 10))\n",
    "a = 0\n",
    "b1 = np.random.randint(0, 76)\n",
    "for images, labels in n_train_ds.take(b1):\n",
    "    for i in range(9):\n",
    "        plt.subplot(3, 3, 1+i)\n",
    "        img = np.array(images[i], dtype='float32')\n",
    "        #print(labels_map[np.argmax(model(img.reshape(1, 1200)))])\n",
    "        plt.imshow(img.reshape(40, 30), cmap='gray')\n",
    "        #plt.title(class_names[labels[i]])\n",
    "        plt.axis(\"off\")\n",
    "    break\n",
    "            \n",
    "plt.show()"
   ]
  },
  {
   "cell_type": "code",
   "execution_count": null,
   "id": "2bbdc6c5",
   "metadata": {},
   "outputs": [],
   "source": [
    "#print(labels_map[np.argmax(model(img.reshape(1, 1200)))])\n",
    "img = img.reshape(40, 30)>0.5\n",
    "plt.imshow(img.reshape(40, 30), cmap='gray')"
   ]
  },
  {
   "cell_type": "code",
   "execution_count": null,
   "id": "8211b6d0",
   "metadata": {},
   "outputs": [],
   "source": [
    "for img_batch, labels_batch in zip(train_img_batch, train_labels_batch):\n",
    "    print(img_batch.shape)\n",
    "    print(labels_batch.shape)\n",
    "    break\n",
    "print(train_img_batch.shape, train_labels_batch.shape)"
   ]
  },
  {
   "cell_type": "code",
   "execution_count": null,
   "id": "6d7328c3",
   "metadata": {},
   "outputs": [],
   "source": [
    "num_classes = 51\n",
    "\n",
    "model = Sequential()\n",
    "model.add(layers.Dense(128, input_dim=40*30, activation='relu'))\n",
    "model.add(layers.Dense(51, activation='softmax'))"
   ]
  },
  {
   "cell_type": "code",
   "execution_count": null,
   "id": "53e09482",
   "metadata": {},
   "outputs": [],
   "source": [
    "model.compile(optimizer='adam',\n",
    "              loss='categorical_crossentropy',\n",
    "              metrics=['accuracy'])\n",
    "model.summary()"
   ]
  },
  {
   "cell_type": "code",
   "execution_count": null,
   "id": "675c1b98",
   "metadata": {},
   "outputs": [],
   "source": [
    "tf.config.run_functions_eagerly(True)"
   ]
  },
  {
   "cell_type": "code",
   "execution_count": null,
   "id": "14560bfb",
   "metadata": {},
   "outputs": [],
   "source": [
    "epochs = 30\n",
    "training = model.fit(\n",
    "    n_train_ds,\n",
    "    validation_data=n_val_ds,\n",
    "    epochs=epochs\n",
    ")"
   ]
  },
  {
   "cell_type": "code",
   "execution_count": null,
   "id": "f1f59c56",
   "metadata": {},
   "outputs": [],
   "source": [
    "model.save('final_model.h5')"
   ]
  },
  {
   "cell_type": "code",
   "execution_count": null,
   "id": "59e7468e",
   "metadata": {},
   "outputs": [],
   "source": [
    "#model = keras.models.load_model(\"nn.h5\")\n",
    "acc = training.history['accuracy']\n",
    "val_acc = training.history['val_accuracy']\n",
    "\n",
    "loss = training.history['loss']\n",
    "val_loss = training.history['val_loss']\n",
    "\n",
    "epochs_range = range(epochs)\n",
    "\n",
    "plt.figure(figsize=(8, 8))\n",
    "plt.subplot(1, 2, 1)\n",
    "plt.plot(epochs_range, acc, label='Training Accuracy')\n",
    "plt.plot(epochs_range, val_acc, label='Validation Accuracy')\n",
    "plt.legend(loc='lower right')\n",
    "plt.title('Training and Validation Accuracy')\n",
    "\n",
    "plt.subplot(1, 2, 2)\n",
    "plt.plot(epochs_range, loss, label='Training Loss')\n",
    "plt.plot(epochs_range, val_loss, label='Validation Loss')\n",
    "plt.legend(loc='upper right')\n",
    "plt.title('Training and Validation Loss')\n",
    "plt.show()"
   ]
  },
  {
   "cell_type": "code",
   "execution_count": null,
   "id": "e94540bf",
   "metadata": {},
   "outputs": [],
   "source": []
  },
  {
   "cell_type": "markdown",
   "id": "430e953d",
   "metadata": {},
   "source": [
    "### I ran the below two commands on colab because the version of tf that I have does not allow me to use it"
   ]
  },
  {
   "cell_type": "code",
   "execution_count": null,
   "id": "5343d5cd",
   "metadata": {},
   "outputs": [],
   "source": [
    "import tensorflowjs"
   ]
  },
  {
   "cell_type": "code",
   "execution_count": null,
   "id": "b0fbeff1",
   "metadata": {},
   "outputs": [],
   "source": [
    "!tensorflowjs_converter --input_format keras '/final_model.h5' '/final_model'"
   ]
  }
 ],
 "metadata": {
  "kernelspec": {
   "display_name": "Python 3.9 (tensorflow)",
   "language": "python",
   "name": "tensorflow"
  },
  "language_info": {
   "codemirror_mode": {
    "name": "ipython",
    "version": 3
   },
   "file_extension": ".py",
   "mimetype": "text/x-python",
   "name": "python",
   "nbconvert_exporter": "python",
   "pygments_lexer": "ipython3",
   "version": "3.9.12"
  }
 },
 "nbformat": 4,
 "nbformat_minor": 5
}
